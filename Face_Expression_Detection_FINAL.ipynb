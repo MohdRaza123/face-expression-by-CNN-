{
  "cells": [
    {
      "cell_type": "code",
      "execution_count": null,
      "metadata": {
        "id": "HLAvLPEbwY32"
      },
      "outputs": [],
      "source": [
        "#unzipping data of drive\n",
        "#!7za -y x \"/content/drive/MyDrive/Deep Learning/data/image/origin.7z.*\""
      ]
    },
    {
      "cell_type": "code",
      "execution_count": null,
      "metadata": {
        "id": "24WrvYGKwfuW"
      },
      "outputs": [],
      "source": [
        "#copying unziped data to drive\n",
        "# !cp -r ./origin \"/content/drive/MyDrive/Deep Learning\""
      ]
    },
    {
      "cell_type": "code",
      "execution_count": 1,
      "metadata": {
        "id": "oMu4KtB-winy"
      },
      "outputs": [],
      "source": [
        "#Loading paths of mages and labels\n",
        "label_file_path=r\"/content/drive/MyDrive/Deep Learning/data/label/label.lst\"\n",
        "images_folder_path=r\"/content/drive/MyDrive/Deep Learning/origin\""
      ]
    },
    {
      "cell_type": "code",
      "execution_count": 2,
      "metadata": {
        "colab": {
          "base_uri": "https://localhost:8080/",
          "height": 206
        },
        "id": "NFo493jawq3Q",
        "outputId": "bb0d00db-a65c-4ce9-e5aa-956c9f76f3f9"
      },
      "outputs": [
        {
          "output_type": "execute_result",
          "data": {
            "text/plain": [
              "            image_name  face_id_in_image  face_box_top  face_box_left  \\\n",
              "0  angry_actor_104.jpg                 0            28            113   \n",
              "1  angry_actor_109.jpg                 0            31            157   \n",
              "2  angry_actor_120.jpg                 1            53             53   \n",
              "3   angry_actor_13.jpg                 0            77             51   \n",
              "4  angry_actor_132.jpg                 0            95             31   \n",
              "\n",
              "   face_box_right  face_box_bottom  face_box_cofidence  expression_label  \n",
              "0             226              141             22.9362                 0  \n",
              "1             345              219             50.3056                 0  \n",
              "2             372              372             13.9434                 2  \n",
              "3             362              388             85.8104                 3  \n",
              "4             412              476             82.3948                 0  "
            ],
            "text/html": [
              "\n",
              "\n",
              "  <div id=\"df-729bdabe-13bb-42b1-90cf-9a2d898028fe\">\n",
              "    <div class=\"colab-df-container\">\n",
              "      <div>\n",
              "<style scoped>\n",
              "    .dataframe tbody tr th:only-of-type {\n",
              "        vertical-align: middle;\n",
              "    }\n",
              "\n",
              "    .dataframe tbody tr th {\n",
              "        vertical-align: top;\n",
              "    }\n",
              "\n",
              "    .dataframe thead th {\n",
              "        text-align: right;\n",
              "    }\n",
              "</style>\n",
              "<table border=\"1\" class=\"dataframe\">\n",
              "  <thead>\n",
              "    <tr style=\"text-align: right;\">\n",
              "      <th></th>\n",
              "      <th>image_name</th>\n",
              "      <th>face_id_in_image</th>\n",
              "      <th>face_box_top</th>\n",
              "      <th>face_box_left</th>\n",
              "      <th>face_box_right</th>\n",
              "      <th>face_box_bottom</th>\n",
              "      <th>face_box_cofidence</th>\n",
              "      <th>expression_label</th>\n",
              "    </tr>\n",
              "  </thead>\n",
              "  <tbody>\n",
              "    <tr>\n",
              "      <th>0</th>\n",
              "      <td>angry_actor_104.jpg</td>\n",
              "      <td>0</td>\n",
              "      <td>28</td>\n",
              "      <td>113</td>\n",
              "      <td>226</td>\n",
              "      <td>141</td>\n",
              "      <td>22.9362</td>\n",
              "      <td>0</td>\n",
              "    </tr>\n",
              "    <tr>\n",
              "      <th>1</th>\n",
              "      <td>angry_actor_109.jpg</td>\n",
              "      <td>0</td>\n",
              "      <td>31</td>\n",
              "      <td>157</td>\n",
              "      <td>345</td>\n",
              "      <td>219</td>\n",
              "      <td>50.3056</td>\n",
              "      <td>0</td>\n",
              "    </tr>\n",
              "    <tr>\n",
              "      <th>2</th>\n",
              "      <td>angry_actor_120.jpg</td>\n",
              "      <td>1</td>\n",
              "      <td>53</td>\n",
              "      <td>53</td>\n",
              "      <td>372</td>\n",
              "      <td>372</td>\n",
              "      <td>13.9434</td>\n",
              "      <td>2</td>\n",
              "    </tr>\n",
              "    <tr>\n",
              "      <th>3</th>\n",
              "      <td>angry_actor_13.jpg</td>\n",
              "      <td>0</td>\n",
              "      <td>77</td>\n",
              "      <td>51</td>\n",
              "      <td>362</td>\n",
              "      <td>388</td>\n",
              "      <td>85.8104</td>\n",
              "      <td>3</td>\n",
              "    </tr>\n",
              "    <tr>\n",
              "      <th>4</th>\n",
              "      <td>angry_actor_132.jpg</td>\n",
              "      <td>0</td>\n",
              "      <td>95</td>\n",
              "      <td>31</td>\n",
              "      <td>412</td>\n",
              "      <td>476</td>\n",
              "      <td>82.3948</td>\n",
              "      <td>0</td>\n",
              "    </tr>\n",
              "  </tbody>\n",
              "</table>\n",
              "</div>\n",
              "      <button class=\"colab-df-convert\" onclick=\"convertToInteractive('df-729bdabe-13bb-42b1-90cf-9a2d898028fe')\"\n",
              "              title=\"Convert this dataframe to an interactive table.\"\n",
              "              style=\"display:none;\">\n",
              "\n",
              "  <svg xmlns=\"http://www.w3.org/2000/svg\" height=\"24px\"viewBox=\"0 0 24 24\"\n",
              "       width=\"24px\">\n",
              "    <path d=\"M0 0h24v24H0V0z\" fill=\"none\"/>\n",
              "    <path d=\"M18.56 5.44l.94 2.06.94-2.06 2.06-.94-2.06-.94-.94-2.06-.94 2.06-2.06.94zm-11 1L8.5 8.5l.94-2.06 2.06-.94-2.06-.94L8.5 2.5l-.94 2.06-2.06.94zm10 10l.94 2.06.94-2.06 2.06-.94-2.06-.94-.94-2.06-.94 2.06-2.06.94z\"/><path d=\"M17.41 7.96l-1.37-1.37c-.4-.4-.92-.59-1.43-.59-.52 0-1.04.2-1.43.59L10.3 9.45l-7.72 7.72c-.78.78-.78 2.05 0 2.83L4 21.41c.39.39.9.59 1.41.59.51 0 1.02-.2 1.41-.59l7.78-7.78 2.81-2.81c.8-.78.8-2.07 0-2.86zM5.41 20L4 18.59l7.72-7.72 1.47 1.35L5.41 20z\"/>\n",
              "  </svg>\n",
              "      </button>\n",
              "\n",
              "\n",
              "\n",
              "    <div id=\"df-cf80c7df-737a-42c7-a2e3-7131415d3219\">\n",
              "      <button class=\"colab-df-quickchart\" onclick=\"quickchart('df-cf80c7df-737a-42c7-a2e3-7131415d3219')\"\n",
              "              title=\"Suggest charts.\"\n",
              "              style=\"display:none;\">\n",
              "\n",
              "<svg xmlns=\"http://www.w3.org/2000/svg\" height=\"24px\"viewBox=\"0 0 24 24\"\n",
              "     width=\"24px\">\n",
              "    <g>\n",
              "        <path d=\"M19 3H5c-1.1 0-2 .9-2 2v14c0 1.1.9 2 2 2h14c1.1 0 2-.9 2-2V5c0-1.1-.9-2-2-2zM9 17H7v-7h2v7zm4 0h-2V7h2v10zm4 0h-2v-4h2v4z\"/>\n",
              "    </g>\n",
              "</svg>\n",
              "      </button>\n",
              "    </div>\n",
              "\n",
              "<style>\n",
              "  .colab-df-quickchart {\n",
              "    background-color: #E8F0FE;\n",
              "    border: none;\n",
              "    border-radius: 50%;\n",
              "    cursor: pointer;\n",
              "    display: none;\n",
              "    fill: #1967D2;\n",
              "    height: 32px;\n",
              "    padding: 0 0 0 0;\n",
              "    width: 32px;\n",
              "  }\n",
              "\n",
              "  .colab-df-quickchart:hover {\n",
              "    background-color: #E2EBFA;\n",
              "    box-shadow: 0px 1px 2px rgba(60, 64, 67, 0.3), 0px 1px 3px 1px rgba(60, 64, 67, 0.15);\n",
              "    fill: #174EA6;\n",
              "  }\n",
              "\n",
              "  [theme=dark] .colab-df-quickchart {\n",
              "    background-color: #3B4455;\n",
              "    fill: #D2E3FC;\n",
              "  }\n",
              "\n",
              "  [theme=dark] .colab-df-quickchart:hover {\n",
              "    background-color: #434B5C;\n",
              "    box-shadow: 0px 1px 3px 1px rgba(0, 0, 0, 0.15);\n",
              "    filter: drop-shadow(0px 1px 2px rgba(0, 0, 0, 0.3));\n",
              "    fill: #FFFFFF;\n",
              "  }\n",
              "</style>\n",
              "\n",
              "    <script>\n",
              "      async function quickchart(key) {\n",
              "        const containerElement = document.querySelector('#' + key);\n",
              "        const charts = await google.colab.kernel.invokeFunction(\n",
              "            'suggestCharts', [key], {});\n",
              "      }\n",
              "    </script>\n",
              "\n",
              "      <script>\n",
              "\n",
              "function displayQuickchartButton(domScope) {\n",
              "  let quickchartButtonEl =\n",
              "    domScope.querySelector('#df-cf80c7df-737a-42c7-a2e3-7131415d3219 button.colab-df-quickchart');\n",
              "  quickchartButtonEl.style.display =\n",
              "    google.colab.kernel.accessAllowed ? 'block' : 'none';\n",
              "}\n",
              "\n",
              "        displayQuickchartButton(document);\n",
              "      </script>\n",
              "      <style>\n",
              "    .colab-df-container {\n",
              "      display:flex;\n",
              "      flex-wrap:wrap;\n",
              "      gap: 12px;\n",
              "    }\n",
              "\n",
              "    .colab-df-convert {\n",
              "      background-color: #E8F0FE;\n",
              "      border: none;\n",
              "      border-radius: 50%;\n",
              "      cursor: pointer;\n",
              "      display: none;\n",
              "      fill: #1967D2;\n",
              "      height: 32px;\n",
              "      padding: 0 0 0 0;\n",
              "      width: 32px;\n",
              "    }\n",
              "\n",
              "    .colab-df-convert:hover {\n",
              "      background-color: #E2EBFA;\n",
              "      box-shadow: 0px 1px 2px rgba(60, 64, 67, 0.3), 0px 1px 3px 1px rgba(60, 64, 67, 0.15);\n",
              "      fill: #174EA6;\n",
              "    }\n",
              "\n",
              "    [theme=dark] .colab-df-convert {\n",
              "      background-color: #3B4455;\n",
              "      fill: #D2E3FC;\n",
              "    }\n",
              "\n",
              "    [theme=dark] .colab-df-convert:hover {\n",
              "      background-color: #434B5C;\n",
              "      box-shadow: 0px 1px 3px 1px rgba(0, 0, 0, 0.15);\n",
              "      filter: drop-shadow(0px 1px 2px rgba(0, 0, 0, 0.3));\n",
              "      fill: #FFFFFF;\n",
              "    }\n",
              "  </style>\n",
              "\n",
              "      <script>\n",
              "        const buttonEl =\n",
              "          document.querySelector('#df-729bdabe-13bb-42b1-90cf-9a2d898028fe button.colab-df-convert');\n",
              "        buttonEl.style.display =\n",
              "          google.colab.kernel.accessAllowed ? 'block' : 'none';\n",
              "\n",
              "        async function convertToInteractive(key) {\n",
              "          const element = document.querySelector('#df-729bdabe-13bb-42b1-90cf-9a2d898028fe');\n",
              "          const dataTable =\n",
              "            await google.colab.kernel.invokeFunction('convertToInteractive',\n",
              "                                                     [key], {});\n",
              "          if (!dataTable) return;\n",
              "\n",
              "          const docLinkHtml = 'Like what you see? Visit the ' +\n",
              "            '<a target=\"_blank\" href=https://colab.research.google.com/notebooks/data_table.ipynb>data table notebook</a>'\n",
              "            + ' to learn more about interactive tables.';\n",
              "          element.innerHTML = '';\n",
              "          dataTable['output_type'] = 'display_data';\n",
              "          await google.colab.output.renderOutput(dataTable, element);\n",
              "          const docLink = document.createElement('div');\n",
              "          docLink.innerHTML = docLinkHtml;\n",
              "          element.appendChild(docLink);\n",
              "        }\n",
              "      </script>\n",
              "    </div>\n",
              "  </div>\n"
            ]
          },
          "metadata": {},
          "execution_count": 2
        }
      ],
      "source": [
        "#Reading CSV label file into pandas with pre-defined column name\n",
        "import pandas as pd\n",
        "df_info= pd.read_csv(label_file_path, sep=\" \", header=None)\n",
        "col_name=\"image_name face_id_in_image face_box_top face_box_left face_box_right face_box_bottom face_box_cofidence expression_label\".split(' ')\n",
        "df_info.columns=col_name\n",
        "#Displaying first five rows of labels\n",
        "df_info.head()"
      ]
    },
    {
      "cell_type": "code",
      "source": [
        "df_info[df_info.face_box_cofidence> 40]"
      ],
      "metadata": {
        "colab": {
          "base_uri": "https://localhost:8080/",
          "height": 423
        },
        "id": "pBy0rV8PSmt-",
        "outputId": "6a0d8154-4eac-4104-a3eb-ac9794c0d6ba"
      },
      "execution_count": 3,
      "outputs": [
        {
          "output_type": "execute_result",
          "data": {
            "text/plain": [
              "                           image_name  face_id_in_image  face_box_top  \\\n",
              "1                 angry_actor_109.jpg                 0            31   \n",
              "3                  angry_actor_13.jpg                 0            77   \n",
              "4                 angry_actor_132.jpg                 0            95   \n",
              "5                 angry_actor_137.jpg                 0            93   \n",
              "9                 angry_actor_150.jpg                 0            56   \n",
              "...                               ...               ...           ...   \n",
              "91786    surprised_expression_409.jpg                 0            80   \n",
              "91787  expressionless_husband_673.jpg                 0            48   \n",
              "91789    surprised_expression_381.jpg                 0            51   \n",
              "91790    surprised_expression_395.jpg                 0            27   \n",
              "91792    surprised_expression_394.jpg                 0            47   \n",
              "\n",
              "       face_box_left  face_box_right  face_box_bottom  face_box_cofidence  \\\n",
              "1                157             345              219             50.3056   \n",
              "3                 51             362              388             85.8104   \n",
              "4                 31             412              476             82.3948   \n",
              "5                468             842              467             88.9519   \n",
              "9                263             376              169             81.8792   \n",
              "...              ...             ...              ...                 ...   \n",
              "91786             46             184              218             63.8069   \n",
              "91787            194             388              242             82.2975   \n",
              "91789             61             117              107             91.6307   \n",
              "91790             95             258              190             96.2861   \n",
              "91792             38             152              161             77.7758   \n",
              "\n",
              "       expression_label  \n",
              "1                     0  \n",
              "3                     3  \n",
              "4                     0  \n",
              "5                     0  \n",
              "9                     0  \n",
              "...                 ...  \n",
              "91786                 5  \n",
              "91787                 4  \n",
              "91789                 5  \n",
              "91790                 5  \n",
              "91792                 5  \n",
              "\n",
              "[57931 rows x 8 columns]"
            ],
            "text/html": [
              "\n",
              "\n",
              "  <div id=\"df-32954f62-54f7-4c72-bd95-f8e1f8430c1c\">\n",
              "    <div class=\"colab-df-container\">\n",
              "      <div>\n",
              "<style scoped>\n",
              "    .dataframe tbody tr th:only-of-type {\n",
              "        vertical-align: middle;\n",
              "    }\n",
              "\n",
              "    .dataframe tbody tr th {\n",
              "        vertical-align: top;\n",
              "    }\n",
              "\n",
              "    .dataframe thead th {\n",
              "        text-align: right;\n",
              "    }\n",
              "</style>\n",
              "<table border=\"1\" class=\"dataframe\">\n",
              "  <thead>\n",
              "    <tr style=\"text-align: right;\">\n",
              "      <th></th>\n",
              "      <th>image_name</th>\n",
              "      <th>face_id_in_image</th>\n",
              "      <th>face_box_top</th>\n",
              "      <th>face_box_left</th>\n",
              "      <th>face_box_right</th>\n",
              "      <th>face_box_bottom</th>\n",
              "      <th>face_box_cofidence</th>\n",
              "      <th>expression_label</th>\n",
              "    </tr>\n",
              "  </thead>\n",
              "  <tbody>\n",
              "    <tr>\n",
              "      <th>1</th>\n",
              "      <td>angry_actor_109.jpg</td>\n",
              "      <td>0</td>\n",
              "      <td>31</td>\n",
              "      <td>157</td>\n",
              "      <td>345</td>\n",
              "      <td>219</td>\n",
              "      <td>50.3056</td>\n",
              "      <td>0</td>\n",
              "    </tr>\n",
              "    <tr>\n",
              "      <th>3</th>\n",
              "      <td>angry_actor_13.jpg</td>\n",
              "      <td>0</td>\n",
              "      <td>77</td>\n",
              "      <td>51</td>\n",
              "      <td>362</td>\n",
              "      <td>388</td>\n",
              "      <td>85.8104</td>\n",
              "      <td>3</td>\n",
              "    </tr>\n",
              "    <tr>\n",
              "      <th>4</th>\n",
              "      <td>angry_actor_132.jpg</td>\n",
              "      <td>0</td>\n",
              "      <td>95</td>\n",
              "      <td>31</td>\n",
              "      <td>412</td>\n",
              "      <td>476</td>\n",
              "      <td>82.3948</td>\n",
              "      <td>0</td>\n",
              "    </tr>\n",
              "    <tr>\n",
              "      <th>5</th>\n",
              "      <td>angry_actor_137.jpg</td>\n",
              "      <td>0</td>\n",
              "      <td>93</td>\n",
              "      <td>468</td>\n",
              "      <td>842</td>\n",
              "      <td>467</td>\n",
              "      <td>88.9519</td>\n",
              "      <td>0</td>\n",
              "    </tr>\n",
              "    <tr>\n",
              "      <th>9</th>\n",
              "      <td>angry_actor_150.jpg</td>\n",
              "      <td>0</td>\n",
              "      <td>56</td>\n",
              "      <td>263</td>\n",
              "      <td>376</td>\n",
              "      <td>169</td>\n",
              "      <td>81.8792</td>\n",
              "      <td>0</td>\n",
              "    </tr>\n",
              "    <tr>\n",
              "      <th>...</th>\n",
              "      <td>...</td>\n",
              "      <td>...</td>\n",
              "      <td>...</td>\n",
              "      <td>...</td>\n",
              "      <td>...</td>\n",
              "      <td>...</td>\n",
              "      <td>...</td>\n",
              "      <td>...</td>\n",
              "    </tr>\n",
              "    <tr>\n",
              "      <th>91786</th>\n",
              "      <td>surprised_expression_409.jpg</td>\n",
              "      <td>0</td>\n",
              "      <td>80</td>\n",
              "      <td>46</td>\n",
              "      <td>184</td>\n",
              "      <td>218</td>\n",
              "      <td>63.8069</td>\n",
              "      <td>5</td>\n",
              "    </tr>\n",
              "    <tr>\n",
              "      <th>91787</th>\n",
              "      <td>expressionless_husband_673.jpg</td>\n",
              "      <td>0</td>\n",
              "      <td>48</td>\n",
              "      <td>194</td>\n",
              "      <td>388</td>\n",
              "      <td>242</td>\n",
              "      <td>82.2975</td>\n",
              "      <td>4</td>\n",
              "    </tr>\n",
              "    <tr>\n",
              "      <th>91789</th>\n",
              "      <td>surprised_expression_381.jpg</td>\n",
              "      <td>0</td>\n",
              "      <td>51</td>\n",
              "      <td>61</td>\n",
              "      <td>117</td>\n",
              "      <td>107</td>\n",
              "      <td>91.6307</td>\n",
              "      <td>5</td>\n",
              "    </tr>\n",
              "    <tr>\n",
              "      <th>91790</th>\n",
              "      <td>surprised_expression_395.jpg</td>\n",
              "      <td>0</td>\n",
              "      <td>27</td>\n",
              "      <td>95</td>\n",
              "      <td>258</td>\n",
              "      <td>190</td>\n",
              "      <td>96.2861</td>\n",
              "      <td>5</td>\n",
              "    </tr>\n",
              "    <tr>\n",
              "      <th>91792</th>\n",
              "      <td>surprised_expression_394.jpg</td>\n",
              "      <td>0</td>\n",
              "      <td>47</td>\n",
              "      <td>38</td>\n",
              "      <td>152</td>\n",
              "      <td>161</td>\n",
              "      <td>77.7758</td>\n",
              "      <td>5</td>\n",
              "    </tr>\n",
              "  </tbody>\n",
              "</table>\n",
              "<p>57931 rows × 8 columns</p>\n",
              "</div>\n",
              "      <button class=\"colab-df-convert\" onclick=\"convertToInteractive('df-32954f62-54f7-4c72-bd95-f8e1f8430c1c')\"\n",
              "              title=\"Convert this dataframe to an interactive table.\"\n",
              "              style=\"display:none;\">\n",
              "\n",
              "  <svg xmlns=\"http://www.w3.org/2000/svg\" height=\"24px\"viewBox=\"0 0 24 24\"\n",
              "       width=\"24px\">\n",
              "    <path d=\"M0 0h24v24H0V0z\" fill=\"none\"/>\n",
              "    <path d=\"M18.56 5.44l.94 2.06.94-2.06 2.06-.94-2.06-.94-.94-2.06-.94 2.06-2.06.94zm-11 1L8.5 8.5l.94-2.06 2.06-.94-2.06-.94L8.5 2.5l-.94 2.06-2.06.94zm10 10l.94 2.06.94-2.06 2.06-.94-2.06-.94-.94-2.06-.94 2.06-2.06.94z\"/><path d=\"M17.41 7.96l-1.37-1.37c-.4-.4-.92-.59-1.43-.59-.52 0-1.04.2-1.43.59L10.3 9.45l-7.72 7.72c-.78.78-.78 2.05 0 2.83L4 21.41c.39.39.9.59 1.41.59.51 0 1.02-.2 1.41-.59l7.78-7.78 2.81-2.81c.8-.78.8-2.07 0-2.86zM5.41 20L4 18.59l7.72-7.72 1.47 1.35L5.41 20z\"/>\n",
              "  </svg>\n",
              "      </button>\n",
              "\n",
              "\n",
              "\n",
              "    <div id=\"df-73440703-acba-433a-9f14-c5800a3f1e37\">\n",
              "      <button class=\"colab-df-quickchart\" onclick=\"quickchart('df-73440703-acba-433a-9f14-c5800a3f1e37')\"\n",
              "              title=\"Suggest charts.\"\n",
              "              style=\"display:none;\">\n",
              "\n",
              "<svg xmlns=\"http://www.w3.org/2000/svg\" height=\"24px\"viewBox=\"0 0 24 24\"\n",
              "     width=\"24px\">\n",
              "    <g>\n",
              "        <path d=\"M19 3H5c-1.1 0-2 .9-2 2v14c0 1.1.9 2 2 2h14c1.1 0 2-.9 2-2V5c0-1.1-.9-2-2-2zM9 17H7v-7h2v7zm4 0h-2V7h2v10zm4 0h-2v-4h2v4z\"/>\n",
              "    </g>\n",
              "</svg>\n",
              "      </button>\n",
              "    </div>\n",
              "\n",
              "<style>\n",
              "  .colab-df-quickchart {\n",
              "    background-color: #E8F0FE;\n",
              "    border: none;\n",
              "    border-radius: 50%;\n",
              "    cursor: pointer;\n",
              "    display: none;\n",
              "    fill: #1967D2;\n",
              "    height: 32px;\n",
              "    padding: 0 0 0 0;\n",
              "    width: 32px;\n",
              "  }\n",
              "\n",
              "  .colab-df-quickchart:hover {\n",
              "    background-color: #E2EBFA;\n",
              "    box-shadow: 0px 1px 2px rgba(60, 64, 67, 0.3), 0px 1px 3px 1px rgba(60, 64, 67, 0.15);\n",
              "    fill: #174EA6;\n",
              "  }\n",
              "\n",
              "  [theme=dark] .colab-df-quickchart {\n",
              "    background-color: #3B4455;\n",
              "    fill: #D2E3FC;\n",
              "  }\n",
              "\n",
              "  [theme=dark] .colab-df-quickchart:hover {\n",
              "    background-color: #434B5C;\n",
              "    box-shadow: 0px 1px 3px 1px rgba(0, 0, 0, 0.15);\n",
              "    filter: drop-shadow(0px 1px 2px rgba(0, 0, 0, 0.3));\n",
              "    fill: #FFFFFF;\n",
              "  }\n",
              "</style>\n",
              "\n",
              "    <script>\n",
              "      async function quickchart(key) {\n",
              "        const containerElement = document.querySelector('#' + key);\n",
              "        const charts = await google.colab.kernel.invokeFunction(\n",
              "            'suggestCharts', [key], {});\n",
              "      }\n",
              "    </script>\n",
              "\n",
              "      <script>\n",
              "\n",
              "function displayQuickchartButton(domScope) {\n",
              "  let quickchartButtonEl =\n",
              "    domScope.querySelector('#df-73440703-acba-433a-9f14-c5800a3f1e37 button.colab-df-quickchart');\n",
              "  quickchartButtonEl.style.display =\n",
              "    google.colab.kernel.accessAllowed ? 'block' : 'none';\n",
              "}\n",
              "\n",
              "        displayQuickchartButton(document);\n",
              "      </script>\n",
              "      <style>\n",
              "    .colab-df-container {\n",
              "      display:flex;\n",
              "      flex-wrap:wrap;\n",
              "      gap: 12px;\n",
              "    }\n",
              "\n",
              "    .colab-df-convert {\n",
              "      background-color: #E8F0FE;\n",
              "      border: none;\n",
              "      border-radius: 50%;\n",
              "      cursor: pointer;\n",
              "      display: none;\n",
              "      fill: #1967D2;\n",
              "      height: 32px;\n",
              "      padding: 0 0 0 0;\n",
              "      width: 32px;\n",
              "    }\n",
              "\n",
              "    .colab-df-convert:hover {\n",
              "      background-color: #E2EBFA;\n",
              "      box-shadow: 0px 1px 2px rgba(60, 64, 67, 0.3), 0px 1px 3px 1px rgba(60, 64, 67, 0.15);\n",
              "      fill: #174EA6;\n",
              "    }\n",
              "\n",
              "    [theme=dark] .colab-df-convert {\n",
              "      background-color: #3B4455;\n",
              "      fill: #D2E3FC;\n",
              "    }\n",
              "\n",
              "    [theme=dark] .colab-df-convert:hover {\n",
              "      background-color: #434B5C;\n",
              "      box-shadow: 0px 1px 3px 1px rgba(0, 0, 0, 0.15);\n",
              "      filter: drop-shadow(0px 1px 2px rgba(0, 0, 0, 0.3));\n",
              "      fill: #FFFFFF;\n",
              "    }\n",
              "  </style>\n",
              "\n",
              "      <script>\n",
              "        const buttonEl =\n",
              "          document.querySelector('#df-32954f62-54f7-4c72-bd95-f8e1f8430c1c button.colab-df-convert');\n",
              "        buttonEl.style.display =\n",
              "          google.colab.kernel.accessAllowed ? 'block' : 'none';\n",
              "\n",
              "        async function convertToInteractive(key) {\n",
              "          const element = document.querySelector('#df-32954f62-54f7-4c72-bd95-f8e1f8430c1c');\n",
              "          const dataTable =\n",
              "            await google.colab.kernel.invokeFunction('convertToInteractive',\n",
              "                                                     [key], {});\n",
              "          if (!dataTable) return;\n",
              "\n",
              "          const docLinkHtml = 'Like what you see? Visit the ' +\n",
              "            '<a target=\"_blank\" href=https://colab.research.google.com/notebooks/data_table.ipynb>data table notebook</a>'\n",
              "            + ' to learn more about interactive tables.';\n",
              "          element.innerHTML = '';\n",
              "          dataTable['output_type'] = 'display_data';\n",
              "          await google.colab.output.renderOutput(dataTable, element);\n",
              "          const docLink = document.createElement('div');\n",
              "          docLink.innerHTML = docLinkHtml;\n",
              "          element.appendChild(docLink);\n",
              "        }\n",
              "      </script>\n",
              "    </div>\n",
              "  </div>\n"
            ]
          },
          "metadata": {},
          "execution_count": 3
        }
      ]
    },
    {
      "cell_type": "code",
      "source": [
        "#Checking the shape of label table in form of rows and columns\n",
        "df_info.shape"
      ],
      "metadata": {
        "colab": {
          "base_uri": "https://localhost:8080/"
        },
        "id": "IvIbkxl_SsdS",
        "outputId": "745197b9-1e88-432d-a538-92332c8f49d9"
      },
      "execution_count": 4,
      "outputs": [
        {
          "output_type": "execute_result",
          "data": {
            "text/plain": [
              "(91793, 8)"
            ]
          },
          "metadata": {},
          "execution_count": 4
        }
      ]
    },
    {
      "cell_type": "code",
      "source": [
        "#Selecting and displaying the data which has greater face_box_confidence\n",
        "df_sel = df_info[df_info.face_box_cofidence> 40]\n",
        "df_sel.shape"
      ],
      "metadata": {
        "colab": {
          "base_uri": "https://localhost:8080/"
        },
        "id": "Zc3Idm5iSxTO",
        "outputId": "3b059e0e-111d-4070-8268-e20c002537f3"
      },
      "execution_count": 5,
      "outputs": [
        {
          "output_type": "execute_result",
          "data": {
            "text/plain": [
              "(57931, 8)"
            ]
          },
          "metadata": {},
          "execution_count": 5
        }
      ]
    },
    {
      "cell_type": "code",
      "source": [
        "#Displaying the data which has greater face_box_confidence\n",
        "df_sel.info"
      ],
      "metadata": {
        "colab": {
          "base_uri": "https://localhost:8080/"
        },
        "id": "HNRC8pszSzmV",
        "outputId": "6bfa909c-de06-4491-8aeb-baeb533b2588"
      },
      "execution_count": 6,
      "outputs": [
        {
          "output_type": "execute_result",
          "data": {
            "text/plain": [
              "<bound method DataFrame.info of                            image_name  face_id_in_image  face_box_top  \\\n",
              "1                 angry_actor_109.jpg                 0            31   \n",
              "3                  angry_actor_13.jpg                 0            77   \n",
              "4                 angry_actor_132.jpg                 0            95   \n",
              "5                 angry_actor_137.jpg                 0            93   \n",
              "9                 angry_actor_150.jpg                 0            56   \n",
              "...                               ...               ...           ...   \n",
              "91786    surprised_expression_409.jpg                 0            80   \n",
              "91787  expressionless_husband_673.jpg                 0            48   \n",
              "91789    surprised_expression_381.jpg                 0            51   \n",
              "91790    surprised_expression_395.jpg                 0            27   \n",
              "91792    surprised_expression_394.jpg                 0            47   \n",
              "\n",
              "       face_box_left  face_box_right  face_box_bottom  face_box_cofidence  \\\n",
              "1                157             345              219             50.3056   \n",
              "3                 51             362              388             85.8104   \n",
              "4                 31             412              476             82.3948   \n",
              "5                468             842              467             88.9519   \n",
              "9                263             376              169             81.8792   \n",
              "...              ...             ...              ...                 ...   \n",
              "91786             46             184              218             63.8069   \n",
              "91787            194             388              242             82.2975   \n",
              "91789             61             117              107             91.6307   \n",
              "91790             95             258              190             96.2861   \n",
              "91792             38             152              161             77.7758   \n",
              "\n",
              "       expression_label  \n",
              "1                     0  \n",
              "3                     3  \n",
              "4                     0  \n",
              "5                     0  \n",
              "9                     0  \n",
              "...                 ...  \n",
              "91786                 5  \n",
              "91787                 4  \n",
              "91789                 5  \n",
              "91790                 5  \n",
              "91792                 5  \n",
              "\n",
              "[57931 rows x 8 columns]>"
            ]
          },
          "metadata": {},
          "execution_count": 6
        }
      ]
    },
    {
      "cell_type": "code",
      "source": [
        "#Importing the libraries\n",
        "import os\n",
        "import cv2\n",
        "from tqdm import tqdm\n",
        "#Initialization of variables for Image and Labels\n",
        "x=[]\n",
        "y=[]\n",
        "#Assigning image path to variable\n",
        "images_folder_path=r\"/content/drive/MyDrive/Deep Learning/origin\"\n",
        "#Performing iterations for 1000 samples\n",
        "for i, row in df_sel.sample(1000).iterrows():\n",
        "  image_name=row[\"image_name\"]\n",
        "  x1=row[\"face_box_left\"]\n",
        "  x2=row[\"face_box_right\"]\n",
        "  y1=row[\"face_box_top\"]\n",
        "  y2=row[\"face_box_bottom\"]\n",
        "  label=row[\"expression_label\"]\n",
        "  # Joining path of image and cropping of images\n",
        "  images_folder = os.path.join(images_folder_path,image_name)\n",
        "  image = cv2.imread (images_folder)\n",
        "\n",
        "  #cropping of images if available\n",
        "  if image is None:\n",
        "    continue\n",
        "  else:\n",
        "    cropped = image[y1:y2, x1:x2]\n",
        "\n",
        "  #Resizing of images to 64 by 64\n",
        "  if cropped is not None:\n",
        "    face_resized=cv2.resize(cropped, (64,64))\n",
        "  else:\n",
        "    continue\n",
        "\n",
        "  #Storing labels and images to variables\n",
        "  x.append(face_resized)\n",
        "  y.append(label)\n",
        "  #file_path=\"/content/drive/MyDrive/Deep Learning/pic/\"+\"raza\" + str(image_name)+\".jpg\"\n",
        "  #cv2.imwrite (file_path,face_resized)"
      ],
      "metadata": {
        "id": "5FMwBy1nS4rJ"
      },
      "execution_count": 7,
      "outputs": []
    },
    {
      "cell_type": "code",
      "source": [
        "#Checking the length of x and y\n",
        "print(len(x))\n",
        "print(len(y))"
      ],
      "metadata": {
        "colab": {
          "base_uri": "https://localhost:8080/"
        },
        "id": "FwYXba0TS4x-",
        "outputId": "86c9482e-8aa8-4d17-b48b-b71848e86771"
      },
      "execution_count": 8,
      "outputs": [
        {
          "output_type": "stream",
          "name": "stdout",
          "text": [
            "917\n",
            "917\n"
          ]
        }
      ]
    },
    {
      "cell_type": "code",
      "source": [
        "#Converting var 'x' and 'y' into Numpy Array\n",
        "import numpy as np\n",
        "x = np.array(x)\n",
        "y = np.array(y)"
      ],
      "metadata": {
        "id": "Aw4BIv1fTFxv"
      },
      "execution_count": 9,
      "outputs": []
    },
    {
      "cell_type": "code",
      "source": [
        "#Converting var 'x' and 'y' in\n",
        "import pandas as pd\n",
        "pd.Series(y).value_counts()\n"
      ],
      "metadata": {
        "colab": {
          "base_uri": "https://localhost:8080/"
        },
        "id": "mL-z-OKkTK0V",
        "outputId": "83ed36e4-b79b-49d1-ca32-b59e761be6d5"
      },
      "execution_count": 10,
      "outputs": [
        {
          "output_type": "execute_result",
          "data": {
            "text/plain": [
              "3    357\n",
              "6    285\n",
              "4    124\n",
              "5     55\n",
              "1     45\n",
              "0     35\n",
              "2     16\n",
              "dtype: int64"
            ]
          },
          "metadata": {},
          "execution_count": 10
        }
      ]
    },
    {
      "cell_type": "code",
      "source": [
        "#Normalization of images\n",
        "x = x/255.0"
      ],
      "metadata": {
        "id": "4XoM_dBPTOKe"
      },
      "execution_count": 11,
      "outputs": []
    },
    {
      "cell_type": "code",
      "source": [
        "#Checking the length of array 'x'\n",
        "len(x)"
      ],
      "metadata": {
        "colab": {
          "base_uri": "https://localhost:8080/"
        },
        "id": "SE8vi3GLTvJO",
        "outputId": "528b1dbd-727b-468f-dc57-fcb33a95f05a"
      },
      "execution_count": 12,
      "outputs": [
        {
          "output_type": "execute_result",
          "data": {
            "text/plain": [
              "917"
            ]
          },
          "metadata": {},
          "execution_count": 12
        }
      ]
    },
    {
      "cell_type": "code",
      "source": [
        "#Reshaping images from 3D to 1D\n",
        "x_new = x.reshape((-1, 64*64*3))\n",
        "len(x_new)"
      ],
      "metadata": {
        "colab": {
          "base_uri": "https://localhost:8080/"
        },
        "id": "rugHjtGJTv6h",
        "outputId": "a3a2cf6f-35ee-4ad9-9de7-dc12664784c7"
      },
      "execution_count": 13,
      "outputs": [
        {
          "output_type": "execute_result",
          "data": {
            "text/plain": [
              "917"
            ]
          },
          "metadata": {},
          "execution_count": 13
        }
      ]
    },
    {
      "cell_type": "code",
      "source": [
        "#Checking Images of each class\n",
        "import pandas as pd\n",
        "pd.Series(y).value_counts()"
      ],
      "metadata": {
        "colab": {
          "base_uri": "https://localhost:8080/"
        },
        "id": "7xO83C06TzbW",
        "outputId": "9a2fd4c4-2283-47a5-9218-f69d24c3eed6"
      },
      "execution_count": 14,
      "outputs": [
        {
          "output_type": "execute_result",
          "data": {
            "text/plain": [
              "3    357\n",
              "6    285\n",
              "4    124\n",
              "5     55\n",
              "1     45\n",
              "0     35\n",
              "2     16\n",
              "dtype: int64"
            ]
          },
          "metadata": {},
          "execution_count": 14
        }
      ]
    },
    {
      "cell_type": "code",
      "source": [
        "#Overdsampling of images and labels to eliminate bias issue\n",
        "from imblearn.over_sampling import SMOTE\n",
        "sampler = SMOTE()\n",
        "x_smote,y_smote = sampler.fit_resample (x_new ,y)\n",
        "\n",
        "pd.Series(y_smote).value_counts()"
      ],
      "metadata": {
        "colab": {
          "base_uri": "https://localhost:8080/"
        },
        "id": "2PGWQopBT3H1",
        "outputId": "b13f2d5d-96e4-40bd-b222-84cf9a7c201d"
      },
      "execution_count": 15,
      "outputs": [
        {
          "output_type": "execute_result",
          "data": {
            "text/plain": [
              "3    357\n",
              "6    357\n",
              "5    357\n",
              "4    357\n",
              "0    357\n",
              "1    357\n",
              "2    357\n",
              "dtype: int64"
            ]
          },
          "metadata": {},
          "execution_count": 15
        }
      ]
    },
    {
      "cell_type": "code",
      "source": [
        "#Reshaping images from 1D to 3D back\n",
        "x = x_smote.reshape ((-1, 64, 64, 3))"
      ],
      "metadata": {
        "id": "oIdQpQjCT8zy"
      },
      "execution_count": 16,
      "outputs": []
    },
    {
      "cell_type": "code",
      "source": [
        "#Displaying Images of each class\n",
        "pd.Series(y_smote).value_counts()"
      ],
      "metadata": {
        "colab": {
          "base_uri": "https://localhost:8080/"
        },
        "id": "u8pe3XexUAF_",
        "outputId": "f84b4bb3-8b55-40eb-c525-d49c81012e87"
      },
      "execution_count": 17,
      "outputs": [
        {
          "output_type": "execute_result",
          "data": {
            "text/plain": [
              "3    357\n",
              "6    357\n",
              "5    357\n",
              "4    357\n",
              "0    357\n",
              "1    357\n",
              "2    357\n",
              "dtype: int64"
            ]
          },
          "metadata": {},
          "execution_count": 17
        }
      ]
    },
    {
      "cell_type": "code",
      "source": [
        "#Displaying tength of Images 'x'\n",
        "len(x)"
      ],
      "metadata": {
        "colab": {
          "base_uri": "https://localhost:8080/"
        },
        "id": "2Td--SzVUCgd",
        "outputId": "af66be58-1136-49f6-82b2-dfab2dbb9c5f"
      },
      "execution_count": 18,
      "outputs": [
        {
          "output_type": "execute_result",
          "data": {
            "text/plain": [
              "2499"
            ]
          },
          "metadata": {},
          "execution_count": 18
        }
      ]
    },
    {
      "cell_type": "code",
      "source": [
        "#Displaying tength of length 'y'\n",
        "len(y_smote)"
      ],
      "metadata": {
        "colab": {
          "base_uri": "https://localhost:8080/"
        },
        "id": "UoxKXWUSUgW6",
        "outputId": "24d53dfc-d1b3-4683-cd8a-71230a508751"
      },
      "execution_count": 19,
      "outputs": [
        {
          "output_type": "execute_result",
          "data": {
            "text/plain": [
              "2499"
            ]
          },
          "metadata": {},
          "execution_count": 19
        }
      ]
    },
    {
      "cell_type": "code",
      "source": [
        "#Splitting the data into train, test and validation sets\n",
        "import tensorflow as tf\n",
        "from tensorflow import keras\n",
        "from sklearn.model_selection import train_test_split\n",
        "from tensorflow.keras import layers, models\n",
        "from tensorflow.keras.preprocessing.image import ImageDataGenerator\n",
        "\n",
        "# Assuming you have loaded your dataset into 'x' and 'y_smote'\n",
        "x_train, X_test, y_train, y_test = train_test_split(x, y_smote, test_size=0.3, random_state=42)\n",
        "X_test, x_val, y_test, y_val = train_test_split(X_test, y_test, test_size=0.35, random_state=42)"
      ],
      "metadata": {
        "id": "kh7VL4dyUp3L"
      },
      "execution_count": 20,
      "outputs": []
    },
    {
      "cell_type": "markdown",
      "source": [
        "***Building CNN Model***"
      ],
      "metadata": {
        "id": "BQ5B0fUrgLm3"
      }
    },
    {
      "cell_type": "code",
      "source": [
        "# Importing libraries\n",
        "from tensorflow.keras.models import Sequential\n",
        "from tensorflow.keras.layers import Conv2D, MaxPooling2D, Flatten, Dense, Dropout\n",
        "from tensorflow.keras.preprocessing.image import ImageDataGenerator\n",
        "from tensorflow.keras import layers, models\n",
        "# Define the model\n",
        "model = Sequential([\n",
        "    # First input layer\n",
        "    Conv2D(32, (2, 2), activation='relu', input_shape=(64, 64, 3)),\n",
        "    MaxPooling2D(pool_size=(2, 2)),\n",
        "    # Second input layer\n",
        "    Conv2D(64, (2, 2), activation='relu'),\n",
        "    MaxPooling2D(pool_size=(2, 2)),\n",
        "    Conv2D(128, (3, 3), activation='relu'),\n",
        "    MaxPooling2D(pool_size=(2, 2)),\n",
        "    Flatten(),\n",
        "    # Fully connected output layer\n",
        "    Dense(64, activation='relu'),\n",
        "    Dropout(0.5),\n",
        "    Dense(7, activation='softmax')  # assuming 7 facial expression classes\n",
        "])\n",
        "\n",
        "# Compile the model\n",
        "model.compile(optimizer='adam', loss='sparse_categorical_crossentropy', metrics=['accuracy'])\n",
        "# show model\n",
        "#model.summary()\n",
        "\n",
        "# Train the model\n",
        "model.fit(x_train,y_train,\n",
        "    epochs=10,\n",
        "    validation_data=(x_val, y_val))"
      ],
      "metadata": {
        "colab": {
          "base_uri": "https://localhost:8080/"
        },
        "id": "JBuJ7N_cUuqa",
        "outputId": "c9ae9496-671b-45c1-b877-27626a3d4b43"
      },
      "execution_count": 23,
      "outputs": [
        {
          "output_type": "stream",
          "name": "stdout",
          "text": [
            "Epoch 1/10\n",
            "55/55 [==============================] - 8s 140ms/step - loss: 1.9521 - accuracy: 0.1441 - val_loss: 1.9356 - val_accuracy: 0.2129\n",
            "Epoch 2/10\n",
            "55/55 [==============================] - 7s 122ms/step - loss: 1.9111 - accuracy: 0.1938 - val_loss: 1.8619 - val_accuracy: 0.2776\n",
            "Epoch 3/10\n",
            "55/55 [==============================] - 7s 127ms/step - loss: 1.8339 - accuracy: 0.2556 - val_loss: 1.7485 - val_accuracy: 0.3194\n",
            "Epoch 4/10\n",
            "55/55 [==============================] - 7s 134ms/step - loss: 1.7180 - accuracy: 0.3185 - val_loss: 1.6228 - val_accuracy: 0.3878\n",
            "Epoch 5/10\n",
            "55/55 [==============================] - 7s 118ms/step - loss: 1.5795 - accuracy: 0.3671 - val_loss: 1.4720 - val_accuracy: 0.4297\n",
            "Epoch 6/10\n",
            "55/55 [==============================] - 8s 138ms/step - loss: 1.4841 - accuracy: 0.4111 - val_loss: 1.3533 - val_accuracy: 0.5095\n",
            "Epoch 7/10\n",
            "55/55 [==============================] - 6s 117ms/step - loss: 1.3123 - accuracy: 0.4911 - val_loss: 1.1828 - val_accuracy: 0.6654\n",
            "Epoch 8/10\n",
            "55/55 [==============================] - 8s 139ms/step - loss: 1.1565 - accuracy: 0.5638 - val_loss: 1.0267 - val_accuracy: 0.6730\n",
            "Epoch 9/10\n",
            "55/55 [==============================] - 6s 118ms/step - loss: 1.0779 - accuracy: 0.5752 - val_loss: 0.9213 - val_accuracy: 0.6958\n",
            "Epoch 10/10\n",
            "55/55 [==============================] - 8s 140ms/step - loss: 0.9859 - accuracy: 0.6135 - val_loss: 0.8277 - val_accuracy: 0.7148\n"
          ]
        },
        {
          "output_type": "execute_result",
          "data": {
            "text/plain": [
              "<keras.callbacks.History at 0x792b38133f40>"
            ]
          },
          "metadata": {},
          "execution_count": 23
        }
      ]
    },
    {
      "cell_type": "markdown",
      "source": [
        "***Evaluate Test Performance***\n",
        "\n",
        "Without data Augumentation"
      ],
      "metadata": {
        "id": "1UiAdTHbmFSy"
      }
    },
    {
      "cell_type": "code",
      "source": [
        "__,train_accuracy = model.evaluate(x_train, y_train)"
      ],
      "metadata": {
        "colab": {
          "base_uri": "https://localhost:8080/"
        },
        "id": "_3Oa-kEUU7m6",
        "outputId": "24898f15-a0cc-48b2-f065-ef36c99d8ab8"
      },
      "execution_count": 24,
      "outputs": [
        {
          "output_type": "stream",
          "name": "stdout",
          "text": [
            "55/55 [==============================] - 2s 36ms/step - loss: 0.6322 - accuracy: 0.8319\n"
          ]
        }
      ]
    },
    {
      "cell_type": "code",
      "source": [
        "__,test_accuracy = model.evaluate(X_test, y_test)"
      ],
      "metadata": {
        "colab": {
          "base_uri": "https://localhost:8080/"
        },
        "id": "vkx_ox1xU8kb",
        "outputId": "abc7542a-d73a-41f3-f351-5cc36643d8b9"
      },
      "execution_count": 25,
      "outputs": [
        {
          "output_type": "stream",
          "name": "stdout",
          "text": [
            "16/16 [==============================] - 1s 31ms/step - loss: 0.8044 - accuracy: 0.7248\n"
          ]
        }
      ]
    },
    {
      "cell_type": "code",
      "source": [
        "from tensorflow.keras.callbacks import EarlyStopping\n",
        "# data generator\n",
        "data_generator = ImageDataGenerator(\n",
        "                        featurewise_center=False,\n",
        "                        featurewise_std_normalization=False,\n",
        "                        rotation_range=10,\n",
        "                        width_shift_range=0.1,\n",
        "                        height_shift_range=0.1,\n",
        "                        zoom_range=.1,\n",
        "                        horizontal_flip=True)\n",
        "\n",
        "\n",
        "es = EarlyStopping(monitor='val_loss', patience = 10, mode = 'min', restore_best_weights=True)\n",
        "\n",
        "history = model.fit_generator(data_generator.flow(x_train, y_train, 16),\n",
        "                                steps_per_epoch=len(x_train) / 16,\n",
        "                                epochs=20,\n",
        "                                verbose=2,\n",
        "                                callbacks = [es],\n",
        "                                validation_data=(x_val, y_val))"
      ],
      "metadata": {
        "colab": {
          "base_uri": "https://localhost:8080/"
        },
        "id": "1-0jbsVCb3et",
        "outputId": "da1c7978-b884-4729-e311-208f8841c04c"
      },
      "execution_count": 26,
      "outputs": [
        {
          "output_type": "stream",
          "name": "stdout",
          "text": [
            "Epoch 1/20\n"
          ]
        },
        {
          "output_type": "stream",
          "name": "stderr",
          "text": [
            "<ipython-input-26-b07565a743e0>:15: UserWarning: `Model.fit_generator` is deprecated and will be removed in a future version. Please use `Model.fit`, which supports generators.\n",
            "  history = model.fit_generator(data_generator.flow(x_train, y_train, 16),\n"
          ]
        },
        {
          "output_type": "stream",
          "name": "stdout",
          "text": [
            "109/109 - 8s - loss: 1.8461 - accuracy: 0.2659 - val_loss: 1.4761 - val_accuracy: 0.4867 - 8s/epoch - 73ms/step\n",
            "Epoch 2/20\n",
            "109/109 - 7s - loss: 1.7682 - accuracy: 0.2899 - val_loss: 1.3150 - val_accuracy: 0.5932 - 7s/epoch - 67ms/step\n",
            "Epoch 3/20\n",
            "109/109 - 7s - loss: 1.6655 - accuracy: 0.3322 - val_loss: 1.3209 - val_accuracy: 0.4829 - 7s/epoch - 68ms/step\n",
            "Epoch 4/20\n",
            "109/109 - 9s - loss: 1.6447 - accuracy: 0.3613 - val_loss: 1.2036 - val_accuracy: 0.6008 - 9s/epoch - 78ms/step\n",
            "Epoch 5/20\n",
            "109/109 - 9s - loss: 1.6001 - accuracy: 0.3865 - val_loss: 1.1402 - val_accuracy: 0.6426 - 9s/epoch - 78ms/step\n",
            "Epoch 6/20\n",
            "109/109 - 7s - loss: 1.5628 - accuracy: 0.4099 - val_loss: 1.2190 - val_accuracy: 0.5665 - 7s/epoch - 68ms/step\n",
            "Epoch 7/20\n",
            "109/109 - 7s - loss: 1.5229 - accuracy: 0.4048 - val_loss: 1.0927 - val_accuracy: 0.6388 - 7s/epoch - 67ms/step\n",
            "Epoch 8/20\n",
            "109/109 - 7s - loss: 1.4739 - accuracy: 0.4248 - val_loss: 1.0371 - val_accuracy: 0.6654 - 7s/epoch - 68ms/step\n",
            "Epoch 9/20\n",
            "109/109 - 9s - loss: 1.4338 - accuracy: 0.4563 - val_loss: 1.0837 - val_accuracy: 0.6160 - 9s/epoch - 79ms/step\n",
            "Epoch 10/20\n",
            "109/109 - 9s - loss: 1.4039 - accuracy: 0.4723 - val_loss: 0.9873 - val_accuracy: 0.6540 - 9s/epoch - 79ms/step\n",
            "Epoch 11/20\n",
            "109/109 - 7s - loss: 1.4070 - accuracy: 0.4728 - val_loss: 1.0153 - val_accuracy: 0.6426 - 7s/epoch - 67ms/step\n",
            "Epoch 12/20\n",
            "109/109 - 9s - loss: 1.3611 - accuracy: 0.4814 - val_loss: 0.9625 - val_accuracy: 0.6540 - 9s/epoch - 79ms/step\n",
            "Epoch 13/20\n",
            "109/109 - 11s - loss: 1.3150 - accuracy: 0.4974 - val_loss: 0.9698 - val_accuracy: 0.6730 - 11s/epoch - 102ms/step\n",
            "Epoch 14/20\n",
            "109/109 - 8s - loss: 1.3063 - accuracy: 0.5094 - val_loss: 0.9519 - val_accuracy: 0.6768 - 8s/epoch - 74ms/step\n",
            "Epoch 15/20\n",
            "109/109 - 8s - loss: 1.2675 - accuracy: 0.5192 - val_loss: 0.9112 - val_accuracy: 0.6958 - 8s/epoch - 73ms/step\n",
            "Epoch 16/20\n",
            "109/109 - 9s - loss: 1.2806 - accuracy: 0.5140 - val_loss: 0.9392 - val_accuracy: 0.6426 - 9s/epoch - 78ms/step\n",
            "Epoch 17/20\n",
            "109/109 - 9s - loss: 1.2160 - accuracy: 0.5346 - val_loss: 0.8876 - val_accuracy: 0.6920 - 9s/epoch - 86ms/step\n",
            "Epoch 18/20\n",
            "109/109 - 7s - loss: 1.2258 - accuracy: 0.5266 - val_loss: 0.8884 - val_accuracy: 0.7300 - 7s/epoch - 68ms/step\n",
            "Epoch 19/20\n",
            "109/109 - 7s - loss: 1.2479 - accuracy: 0.5129 - val_loss: 0.8804 - val_accuracy: 0.7110 - 7s/epoch - 68ms/step\n",
            "Epoch 20/20\n",
            "109/109 - 9s - loss: 1.1743 - accuracy: 0.5615 - val_loss: 0.8474 - val_accuracy: 0.7262 - 9s/epoch - 79ms/step\n"
          ]
        }
      ]
    },
    {
      "cell_type": "code",
      "source": [
        "__,train_accuracy = model.evaluate(x_train, y_train)"
      ],
      "metadata": {
        "colab": {
          "base_uri": "https://localhost:8080/"
        },
        "id": "xnGetGv5ABbF",
        "outputId": "78eda68c-ce6f-4ca7-fa6f-25f0727d906b"
      },
      "execution_count": 29,
      "outputs": [
        {
          "output_type": "stream",
          "name": "stdout",
          "text": [
            "55/55 [==============================] - 2s 32ms/step - loss: 0.6953 - accuracy: 0.7804\n"
          ]
        }
      ]
    },
    {
      "cell_type": "code",
      "source": [
        "__,test_accuracy = model.evaluate(X_test, y_test)"
      ],
      "metadata": {
        "colab": {
          "base_uri": "https://localhost:8080/"
        },
        "id": "OPciDVLw_d4B",
        "outputId": "8654a11e-e84b-499f-efa7-80ff19ed7ede"
      },
      "execution_count": 30,
      "outputs": [
        {
          "output_type": "stream",
          "name": "stdout",
          "text": [
            "16/16 [==============================] - 0s 30ms/step - loss: 0.8533 - accuracy: 0.7043\n"
          ]
        }
      ]
    },
    {
      "cell_type": "markdown",
      "source": [
        "***Visualize Training Performance***\n"
      ],
      "metadata": {
        "id": "DyQ8Sc3ylWiN"
      }
    },
    {
      "cell_type": "code",
      "source": [
        "import matplotlib.pyplot as plt\n",
        "fig, axes = plt.subplots(1,2, figsize=(18, 6))\n",
        "# Plot training & validation accuracy values\n",
        "axes[0].plot(history.history['accuracy'])\n",
        "axes[0].plot(history.history['val_accuracy'])\n",
        "axes[0].set_title('Model accuracy')# the number of classifications a model correctly predicts divided by the total number of predictions made\n",
        "axes[0].set_ylabel('Accuracy')#determine which model is best at identifying relationships and patterns between variables in a dataset based on the input, or training, data\n",
        "axes[0].set_xlabel('Epoch')\n",
        "axes[0].legend(['Train', 'Validation'], loc='upper left')\n",
        "\n",
        "# Plot training & validation loss values\n",
        "axes[1].plot(history.history['loss'])\n",
        "axes[1].plot(history.history['val_loss'])\n",
        "axes[1].set_title('Model loss')\n",
        "axes[1].set_ylabel('Loss')\n",
        "axes[1].set_xlabel('Epoch')\n",
        "axes[1].legend(['Train', 'Validation'], loc='upper left')\n",
        "plt.show()"
      ],
      "metadata": {
        "colab": {
          "base_uri": "https://localhost:8080/",
          "height": 538
        },
        "id": "zv-vS1ppdDj4",
        "outputId": "ef4def6f-9b32-47d2-900a-1ebfd6d4bbac"
      },
      "execution_count": 33,
      "outputs": [
        {
          "output_type": "display_data",
          "data": {
            "text/plain": [
              "<Figure size 1800x600 with 2 Axes>"
            ],
            "image/png": "[encoded data removed]"
          },
          "metadata": {}
        }
      ]
    },
    {
      "cell_type": "markdown",
      "source": [
        "***Evaluate the Model***\n",
        "\n",
        "After training, we'll evaluate the model's performance on the testing data and calculate the accuracy."
      ],
      "metadata": {
        "id": "lrinFdo8laRe"
      }
    },
    {
      "cell_type": "code",
      "source": [
        "# Evaluate the model\n",
        "loss, accuracy = model.evaluate(X_test, y_test, verbose=0)\n",
        "print(\"Test Loss:\", loss)\n",
        "print(\"Test Accuracy:\", accuracy)"
      ],
      "metadata": {
        "colab": {
          "base_uri": "https://localhost:8080/"
        },
        "id": "vOuKXI1tghKj",
        "outputId": "6da8393d-25de-493b-9987-8b72d297f366"
      },
      "execution_count": 34,
      "outputs": [
        {
          "output_type": "stream",
          "name": "stdout",
          "text": [
            "Test Loss: 0.8532846570014954\n",
            "Test Accuracy: 0.7043120861053467\n"
          ]
        }
      ]
    },
    {
      "cell_type": "code",
      "source": [
        "# Make predictions\n",
        "predictions = model.predict(X_test)\n",
        "print(predictions)"
      ],
      "metadata": {
        "colab": {
          "base_uri": "https://localhost:8080/"
        },
        "id": "Uey8QjargtBf",
        "outputId": "3852d7b8-db37-486c-e275-9c619e611869"
      },
      "execution_count": 35,
      "outputs": [
        {
          "output_type": "stream",
          "name": "stdout",
          "text": [
            "16/16 [==============================] - 1s 29ms/step\n",
            "[[1.68711282e-02 7.17959702e-01 3.43843916e-04 ... 1.05269067e-01\n",
            "  6.86996896e-03 4.93610464e-02]\n",
            " [2.37557827e-03 4.99850694e-06 9.89757836e-01 ... 5.09562844e-04\n",
            "  1.23701734e-03 1.04424113e-03]\n",
            " [9.86091971e-01 6.52964867e-04 3.70527909e-04 ... 3.03776498e-04\n",
            "  4.10921784e-04 1.55529694e-03]\n",
            " ...\n",
            " [9.35638980e-08 1.87355137e-04 4.51699179e-06 ... 1.07102478e-02\n",
            "  9.51408505e-01 3.10383346e-02]\n",
            " [4.87724226e-03 1.26950229e-02 1.33517012e-03 ... 1.02665275e-01\n",
            "  4.73054320e-01 2.79377997e-01]\n",
            " [7.08917668e-03 2.08415791e-01 2.48088632e-02 ... 2.88616240e-01\n",
            "  1.84813395e-01 1.46203756e-01]]\n"
          ]
        }
      ]
    },
    {
      "cell_type": "code",
      "source": [
        "predicted_labels = np.argmax(predictions, axis=1)\n",
        "print(predicted_labels)"
      ],
      "metadata": {
        "colab": {
          "base_uri": "https://localhost:8080/"
        },
        "id": "gVKj9i1Fg1R-",
        "outputId": "f19242b5-7ef5-4673-f8b4-9edbfe7d9717"
      },
      "execution_count": 50,
      "outputs": [
        {
          "output_type": "stream",
          "name": "stdout",
          "text": [
            "[1 2 0 3 5 2 0 1 0 3 1 2 5 1 0 5 4 2 3 4 5 0 5 3 5 5 3 6 6 1 5 5 6 0 2 1 0\n",
            " 1 5 2 2 6 3 4 3 3 5 0 4 3 2 3 5 6 1 2 0 0 5 2 1 3 5 6 1 3 5 1 3 1 0 2 3 1\n",
            " 1 3 1 1 6 5 3 6 0 0 2 2 4 3 1 4 2 2 5 6 0 2 3 3 0 3 1 2 4 1 6 6 0 5 5 1 0\n",
            " 3 1 6 1 4 5 4 3 2 0 1 1 3 3 5 6 1 5 2 3 6 3 0 5 6 3 2 6 6 6 5 0 6 0 6 2 3\n",
            " 4 2 3 0 5 5 0 3 1 2 5 1 0 1 5 1 4 3 3 5 2 0 6 3 1 6 0 3 6 3 6 0 3 0 1 3 3\n",
            " 6 3 6 3 1 5 6 6 4 3 6 3 4 1 0 1 6 5 5 5 1 3 6 0 1 2 3 2 3 3 5 5 5 5 1 6 5\n",
            " 0 2 2 6 1 5 2 5 4 5 1 0 3 3 3 2 1 2 3 2 0 0 2 0 5 3 5 3 1 5 1 3 1 2 0 6 3\n",
            " 3 2 6 2 0 1 3 1 0 2 2 0 2 3 3 6 2 3 0 4 5 3 5 5 3 2 3 2 6 5 1 0 5 4 5 1 5\n",
            " 1 5 2 1 5 6 4 5 1 6 2 5 0 2 3 6 5 6 3 2 4 0 2 5 1 5 1 2 3 0 1 3 1 3 4 0 3\n",
            " 1 2 5 2 1 5 1 3 4 3 2 3 6 5 1 5 0 0 4 5 5 6 5 6 0 3 0 5 3 5 2 1 1 2 5 2 6\n",
            " 2 1 6 2 3 1 5 0 3 0 3 0 3 2 2 4 0 5 5 5 3 0 1 0 2 4 3 5 0 6 2 4 5 6 3 6 4\n",
            " 1 5 4 6 6 1 2 1 6 1 5 2 1 3 3 3 0 0 2 1 1 3 1 3 0 3 1 0 5 5 3 5 1 0 4 3 4\n",
            " 1 5 0 1 0 3 6 6 1 0 2 2 2 4 3 5 2 3 0 3 5 0 3 6 1 5 3 6 1 4 2 1 0 4 2 6 3\n",
            " 2 0 5 5 5 4]\n"
          ]
        }
      ]
    },
    {
      "cell_type": "markdown",
      "source": [
        "***Confusion Matrix***\n",
        "\n",
        "Confusion Matrix is applied and plotted to find out which emotion usually get confused with each other."
      ],
      "metadata": {
        "id": "S6mWyRh9kgjg"
      }
    },
    {
      "cell_type": "code",
      "source": [
        "#check target labels\n",
        "#classes and number\n",
        "\n",
        "# Creating a barplot class distribution of train, val and test\n",
        "emotion_labels = ['Angry', 'Disgust', 'Fear', 'Happy', 'Sad', 'Surprise', 'Neutral']\n",
        "\n",
        "emotion_map = {0: 'Angry', 1: 'Digust', 2: 'Fear', 3: 'Happy', 4: 'Sad', 5: 'Surprise', 6: 'Neutral'}\n",
        "emotion_counts = df_sel['expression_label'].value_counts(sort=False).reset_index()\n",
        "emotion_counts.columns = ['emotion', 'number']\n",
        "emotion_counts['emotion'] = emotion_counts['emotion'].map(emotion_map)\n",
        "print(emotion_counts)\n",
        "print(emotion_map)"
      ],
      "metadata": {
        "colab": {
          "base_uri": "https://localhost:8080/"
        },
        "id": "xkDVi0o5Bxcf",
        "outputId": "a2651a6d-1932-4fa6-a123-38aacac84610"
      },
      "execution_count": 51,
      "outputs": [
        {
          "output_type": "stream",
          "name": "stdout",
          "text": [
            "    emotion  number\n",
            "0     Angry    2674\n",
            "1     Happy   21005\n",
            "2       Sad    6151\n",
            "3   Neutral   19530\n",
            "4    Digust    2745\n",
            "5  Surprise    5070\n",
            "6      Fear     756\n",
            "{0: 'Angry', 1: 'Digust', 2: 'Fear', 3: 'Happy', 4: 'Sad', 5: 'Surprise', 6: 'Neutral'}\n"
          ]
        }
      ]
    },
    {
      "cell_type": "code",
      "source": [
        "from sklearn.metrics import confusion_matrix\n",
        "import seaborn as sns\n",
        "import matplotlib.pyplot as plt\n",
        "from sklearn.datasets import load_iris\n",
        "import numpy as np\n",
        "\n",
        "from sklearn.metrics import confusion_matrix\n",
        "\n",
        "\n",
        "# Compute the confusion matrix\n",
        "cm = confusion_matrix(y_test, predicted_labels)\n",
        "\n",
        "\n",
        "# Plot the confusion matrix using a heatmap\n",
        "plt.figure(figsize=(8, 6))\n",
        "sns.heatmap(cm, annot=True, cmap='Blues', fmt='d', xticklabels=emotion_labels, yticklabels=emotion_labels)\n",
        "plt.xlabel('Predicted Labels')\n",
        "plt.ylabel('True Labels')\n",
        "plt.title('Confusion Matrix')\n",
        "plt.show()"
      ],
      "metadata": {
        "colab": {
          "base_uri": "https://localhost:8080/",
          "height": 564
        },
        "id": "6gIFPMcGkGaq",
        "outputId": "2f5d33f4-047e-4f7c-c65f-2b76fc33820e"
      },
      "execution_count": 63,
      "outputs": [
        {
          "output_type": "display_data",
          "data": {
            "text/plain": [
              "<Figure size 800x600 with 2 Axes>"
            ],
            "image/png": "[encoded data removed]"
          },
          "metadata": {}
        }
      ]
    },
    {
      "cell_type": "markdown",
      "source": [
        "***Scratch Implementation of Single Neuron***"
      ],
      "metadata": {
        "id": "l7G3Ct4lkdjN"
      }
    },
    {
      "cell_type": "code",
      "source": [
        "import numpy as np\n",
        "\n",
        "def sigmoid(x):\n",
        "    \"\"\"Sigmoid activation function.\"\"\"\n",
        "    return 1 / (1 + np.exp(-x))\n",
        "\n",
        "# Define input matrix\n",
        "X = np.array([[0.2], [0.4], [0.6]])\n",
        "\n",
        "# Define weights and biases\n",
        "W1 = np.array([[0.5, 0.3, 0.2]])  # Weights for hidden layer\n",
        "B1 = np.array([[0.1]])  # Biases for hidden layer\n",
        "W2 = np.array([[0.4]])  # Weights for output layer\n",
        "B2 = np.array([[0.2]])  # Bias for output layer\n",
        "\n",
        "# Forward propagation\n",
        "Z1 = np.dot(W1, X) + B1  # Linear combination for hidden layer\n",
        "A1 = sigmoid(Z1)  # Activation of hidden layer\n",
        "Z2 = np.dot(W2, A1) + B2  # Linear combination for output layer\n",
        "A2 = sigmoid(Z2)  # Activation of output layer\n",
        "\n",
        "print(\"Output Prob:\", A2)\n",
        "print(\"Output Class:\", 1 if A2[0,0] >= 0.5 else 0)"
      ],
      "metadata": {
        "colab": {
          "base_uri": "https://localhost:8080/"
        },
        "id": "aSVNkTGkk3XL",
        "outputId": "cba5ff7b-1720-4895-e544-7443d1d5cbfb"
      },
      "execution_count": 38,
      "outputs": [
        {
          "output_type": "stream",
          "name": "stdout",
          "text": [
            "Output Prob: [[0.60904593]]\n",
            "Output Class: 1\n"
          ]
        }
      ]
    },
    {
      "cell_type": "code",
      "source": [
        "import numpy as np\n",
        "from sklearn.metrics import accuracy_score\n",
        "\n",
        "test_true = np.argmax(y_test)\n",
        "test_pred = np.argmax(model.predict(X_test), axis=1)\n",
        "#print(\"CNN Model Accuracy on test set: {:.4f}\".format(accuracy_score(test_true, test_pred)))"
      ],
      "metadata": {
        "colab": {
          "base_uri": "https://localhost:8080/"
        },
        "id": "BXmgOWIs0_OO",
        "outputId": "c0b6df87-fd3a-45df-e2ce-d055ca4df07b"
      },
      "execution_count": 39,
      "outputs": [
        {
          "output_type": "stream",
          "name": "stdout",
          "text": [
            "16/16 [==============================] - 0s 29ms/step\n"
          ]
        }
      ]
    }
  ],
  "metadata": {
    "colab": {
      "provenance": []
    },
    "kernelspec": {
      "display_name": "Python 3",
      "name": "python3"
    },
    "language_info": {
      "name": "python"
    }
  },
  "nbformat": 4,
  "nbformat_minor": 0
}